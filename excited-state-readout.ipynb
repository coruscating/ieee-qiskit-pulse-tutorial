{
 "cells": [
  {
   "cell_type": "markdown",
   "metadata": {
    "slideshow": {
     "slide_type": "slide"
    }
   },
   "source": [
    "# Qiskit Pulse Tutorial: Excited State Promoted Readout\n",
    "\n",
    "### Helena Zhang, Software Developer, IBM Quantum (Helena.Zhang@ibm.com)"
   ]
  },
  {
   "cell_type": "markdown",
   "metadata": {
    "slideshow": {
     "slide_type": "slide"
    }
   },
   "source": [
    "![qv64.png](qv64.png)\n",
    "\n",
    "To achieve a quantum volume of 64 ([arxiv.org/abs/2008.08571](https://arxiv.org/abs/2008.08571)), the IBM Quantum team employed a host of techniques, including **excited state promoted readout** using Qiskit Pulse. Let's do a hands-on demo of this technique!"
   ]
  },
  {
   "cell_type": "markdown",
   "metadata": {
    "slideshow": {
     "slide_type": "slide"
    }
   },
   "source": [
    "In excited state promoted readout, we take advantage of higher excited states of the transmon by exciting the $|1\\rangle$ state to $|2\\rangle$ and measure in the $|0\\rangle$, $|2\\rangle$ subspace. This can improve measurement fidelity since the $|2\\rangle \\rightarrow |0\\rangle$ two-photon transition is highly suppressed.\n",
    "\n",
    "![readout.png](readout.png)\n"
   ]
  },
  {
   "cell_type": "markdown",
   "metadata": {
    "slideshow": {
     "slide_type": "slide"
    }
   },
   "source": [
    "# Goal and Outline\n",
    "\n",
    "Due to various noise processes, qubit parameters drift around over time. Therefore, experimentalists always calibrate their pulses prior to starting the experiment. Classical measurement data coming out of a superconducting qubit circuit after applying an appropriate kernel is in the form of I-Q data. In this tutorial, we will be coding calibration and measurement experiments in order to classify I-Q data into $|0\\rangle$ and $|1\\rangle$ states. "
   ]
  },
  {
   "cell_type": "markdown",
   "metadata": {
    "slideshow": {
     "slide_type": "slide"
    }
   },
   "source": [
    "1. Calibrate the frequencies of $|0\\rangle \\rightarrow |1\\rangle$ and $|1\\rangle \\rightarrow |2\\rangle$ transitions using a frequency spectroscopy Pulse experiment.\n",
    "2. Calibrate the $|0\\rangle \\rightarrow |1\\rangle$ and $|1\\rangle \\rightarrow |2\\rangle$ $\\pi$-pulses using a Rabi Pulse experiment.\n",
    "3. Do a discriminator experiment to get $|0\\rangle$, $|1\\rangle$, and $|2\\rangle$ I-Q data.\n",
    "4. Use machine learning classifiers to discriminate between the states.\n",
    "5. Quantify whether excited state promoted readout improves readout performance."
   ]
  },
  {
   "cell_type": "markdown",
   "metadata": {
    "slideshow": {
     "slide_type": "slide"
    }
   },
   "source": [
    "# 0. Set up libraries and backend"
   ]
  },
  {
   "cell_type": "code",
   "execution_count": null,
   "metadata": {},
   "outputs": [],
   "source": [
    "import numpy as np\nimport matplotlib.pyplot as plt\nfrom qiskit import IBMQ\n\nif not IBMQ.active_account():\n    IBMQ.load_account()\nprovider = IBMQ.get_provider(hub='ibm-q-community', group='reservations', project='main')\nbackend = provider.get_backend('ibmq_rome')"
   ]
  },
  {
   "cell_type": "markdown",
   "metadata": {
    "slideshow": {
     "slide_type": "slide"
    }
   },
   "source": [
    "## Get backend defaults"
   ]
  },
  {
   "cell_type": "code",
   "execution_count": null,
   "metadata": {},
   "outputs": [],
   "source": [
    "backend_config = backend.configuration()\nbackend_defaults = backend.defaults()\nassert backend_config.open_pulse, \"Backend doesn't support Pulse\"\n\nqubit = 0\ndt = backend_config.dt\nGHz = 1e9\nMHz = 1e6\nus = 1e-6\n\n# get last calibrated qubit frequency\nqubit_01_freq_default = backend_defaults.qubit_freq_est[qubit]\nprint(f\"Qubit 0, 0->1 state estimated frequency: {qubit_01_freq_default/GHz} GHz\")"
   ]
  },
  {
   "cell_type": "markdown",
   "metadata": {
    "slideshow": {
     "slide_type": "slide"
    }
   },
   "source": [
    "<a id=\"sec1\"></a>\n",
    "## 1. Frequency spectroscopy\n",
    "\n",
    "Let's calibrate $|0\\rangle \\rightarrow |1\\rangle$ and $|1\\rangle \\rightarrow |2\\rangle$ frequencies. For $|0\\rangle \\rightarrow |1\\rangle$, we will use the last calibrated value as a starting point. For $|1\\rangle \\rightarrow |2\\rangle$, we know where it is relatively based on past experiences.\n",
    "\n",
    "To probe these transitions, we will drive a Gaussian pulse between our start and ending states and vary its frequency. If we are not on resonance, we expect there will be no excitation, and vice versa. We expect to get an output plot that shows where our transition frequencies are.\n",
    "\n",
    "Let's look at the Qiskit documentation ([qiskit.org/documentation](https://qiskit.org/documentation)) for how to write a Gaussian pulse:\n",
    "\n",
    "![gaussian_doc.png](gaussian_doc.png)\n",
    "\n"
   ]
  },
  {
   "cell_type": "markdown",
   "metadata": {
    "slideshow": {
     "slide_type": "slide"
    }
   },
   "source": [
    "## Construct basic $|0\\rangle \\rightarrow |1\\rangle$ pulse"
   ]
  },
  {
   "cell_type": "code",
   "execution_count": null,
   "metadata": {
    "slideshow": {
     "slide_type": "-"
    }
   },
   "outputs": [],
   "source": [
    "import qiskit.pulse as pulse\nfrom qiskit.pulse.library import gaussian\n\ndef round_16(num):\n    return int(num) - int(num)%16\n\ndrive_samples_us = 0.1\ndrive_samples = round_16(drive_samples_us*us/dt)\ndrive_sigma = round_16(drive_samples_us/4*us/dt)\ndrive_power = 0.2\n\n# Start constructing freq_sweep_pulse\n\n# End constructing"
   ]
  },
  {
   "cell_type": "markdown",
   "metadata": {
    "slideshow": {
     "slide_type": "slide"
    }
   },
   "source": [
    "## Construct $|0\\rangle \\rightarrow |1\\rangle$ pulse schedule"
   ]
  },
  {
   "cell_type": "code",
   "execution_count": null,
   "metadata": {
    "slideshow": {
     "slide_type": "-"
    }
   },
   "outputs": [],
   "source": [
    "drive_chan = pulse.DriveChannel(qubit)\nmeas_chan = pulse.MeasureChannel(qubit)\nacq_chan = pulse.AcquireChannel(qubit)\nfrom qiskit.scheduler import measure\n\n# Start constructing sched_01\n\n# End constructing\n\n# Visualize sched_01\nfrom qiskit.visualization import SchedStyle\nplot_options={\"plot_range\": [0,2500],\n              \"channels\": [drive_chan,meas_chan,acq_chan],\n              \"label\": True,\n              \"style\": SchedStyle(figsize=(10,5))}\nsched_01.draw(**plot_options)"
   ]
  },
  {
   "cell_type": "markdown",
   "metadata": {
    "slideshow": {
     "slide_type": "slide"
    }
   },
   "source": [
    "## Assemble program and run"
   ]
  },
  {
   "cell_type": "code",
   "execution_count": null,
   "metadata": {},
   "outputs": [],
   "source": [
    "from qiskit import assemble\nfreq_range = np.linspace(-30*MHz+qubit_01_freq_default, 30*MHz+qubit_01_freq_default, 50)\n\nfreq_sweep_program = assemble(sched_01,\n                              backend=backend,\n                              meas_level=1,\n                              meas_return='avg',\n                              shots=256,\n                              schedule_los=[{drive_chan: freq} for freq in freq_range]\n                             )\n\nfreq_sweep_job = backend.run(freq_sweep_program)\nfreq_sweep_job.update_name(\"frequency sweep 0->1\")\n\nfrom qiskit.tools.monitor import job_monitor\njob_monitor(freq_sweep_job)"
   ]
  },
  {
   "cell_type": "markdown",
   "metadata": {
    "slideshow": {
     "slide_type": "slide"
    }
   },
   "source": [
    "# Look at our data"
   ]
  },
  {
   "cell_type": "code",
   "execution_count": null,
   "metadata": {
    "scrolled": true
   },
   "outputs": [],
   "source": [
    "result = freq_sweep_job.result()\n\nscale_factor = 1e-7\ndata = [result.get_memory(i)[0]*scale_factor for i in range(len(result.results))]\n\nplt.scatter(freq_range,data)\nplt.xlabel(\"Frequency (Hz)\")\nplt.ylabel(\"Signal (a.u.)\")\nplt.show()"
   ]
  },
  {
   "cell_type": "markdown",
   "metadata": {
    "slideshow": {
     "slide_type": "-"
    }
   },
   "source": [
    "### Fit our data"
   ]
  },
  {
   "cell_type": "code",
   "execution_count": null,
   "metadata": {
    "scrolled": false
   },
   "outputs": [],
   "source": [
    "from scipy.optimize import curve_fit\n\nlorentzian = lambda x, A, q_freq, B, C: (A / np.pi) * (B / ((x - q_freq)**2 + B**2)) + C\nfreq_sweep_fitparams, _ = curve_fit(lorentzian, freq_range, data, [6e7, qubit_01_freq_default, 4e6, -3])\ny_fit = lorentzian(freq_range, *freq_sweep_fitparams)\nprint(f\"Fit parameters: {freq_sweep_fitparams}\")\nplt.scatter(freq_range,data)\nplt.plot(freq_range, y_fit, color='red')\nplt.title(\"0->1 Frequency Sweep\")\nplt.xlabel(\"Freq (GHz)\")\nplt.ylabel(\"Signal\")\nplt.show()"
   ]
  },
  {
   "cell_type": "markdown",
   "metadata": {
    "slideshow": {
     "slide_type": "slide"
    }
   },
   "source": [
    "## Finish calibration"
   ]
  },
  {
   "cell_type": "code",
   "execution_count": null,
   "metadata": {},
   "outputs": [],
   "source": [
    "qubit_01_freq_cal = freq_sweep_fitparams[1]\nprint(f\"Updated qubit frequency from {qubit_01_freq_default/GHz} to {qubit_01_freq_cal/GHz} GHz\")"
   ]
  },
  {
   "cell_type": "markdown",
   "metadata": {
    "slideshow": {
     "slide_type": "slide"
    }
   },
   "source": [
    "## $|1\\rangle \\rightarrow |2\\rangle$ spectroscopy\n",
    "\n",
    "To excite the $|1\\rangle \\rightarrow |2\\rangle$ transition, we first excite the $|1\\rangle$ state by applying the previously calibrated $|0\\rangle \\rightarrow |1\\rangle$ $\\pi$ pulse. We then perform the frequency sweep over excitations of the $|1\\rangle$ state. A peak should be observed at a frequency lower than the $0\\rightarrow1$ frequency that corresponds to the $|1\\rangle \\rightarrow |2\\rangle$ frequency.\n",
    "\n",
    "To drive the $1\\rightarrow 2$ $\\pi$ transition, we set the local oscillator (LO) frequency to `qubit_01_freq_cal` and multiply a sine function onto the $|1\\rangle \\rightarrow |2\\rangle$ pulse at `freq-qubit_01_freq_cal` to add a modulation at `freq`, the desired scan frequency. Applying the sinusoidal sideband, as it's known, enables us to change the LO frequency without manually setting it when assembling the program.\n",
    "\n",
    "![signal_mixing.png](signal_mixing.png)"
   ]
  },
  {
   "cell_type": "markdown",
   "metadata": {
    "slideshow": {
     "slide_type": "slide"
    }
   },
   "source": [
    "### Write modulation function"
   ]
  },
  {
   "cell_type": "code",
   "execution_count": null,
   "metadata": {},
   "outputs": [],
   "source": [
    "from qiskit.pulse import Waveform\n\ndef apply_sideband(pulse, mod_freq, carrier_freq, duration):\n    # Start code to return modulated pulse\n\n    # End code"
   ]
  },
  {
   "cell_type": "markdown",
   "metadata": {
    "slideshow": {
     "slide_type": "slide"
    }
   },
   "source": [
    "### Construct $|1\\rangle \\rightarrow |2\\rangle$ pulse schedule"
   ]
  },
  {
   "cell_type": "code",
   "execution_count": null,
   "metadata": {},
   "outputs": [],
   "source": [
    "freq_offset = 342*MHz # for Rome\nexcited_sweep_freqs = qubit_01_freq_cal - freq_offset + np.linspace(-30e6, 30e6, 50)\nsched_12 = []\n\nfreq_sweep_pulse_bigger = gaussian(\n    duration=drive_samples,\n    amp=0.6,\n    sigma=drive_sigma,\n    name=\"0->1 pulse, default\")\n\nfor freq in excited_sweep_freqs:\n    freq_sweep_12_pulse = apply_sideband(freq_sweep_pulse_bigger, freq, qubit_01_freq_cal, drive_samples)\n\n    # Start constructing single frequency schedule using pulses we already have\n\n    # End constructing\n    \n    sched_12.append(sched)\n\nsched.draw(**plot_options)"
   ]
  },
  {
   "cell_type": "markdown",
   "metadata": {},
   "source": [
    "### Assemble and run program"
   ]
  },
  {
   "cell_type": "code",
   "execution_count": null,
   "metadata": {},
   "outputs": [],
   "source": [
    "excited_freq_sweep_program = assemble(sched_12,\n                                      backend=backend, \n                                      meas_level=1,\n                                      meas_return='avg',\n                                      shots=512,\n                                      schedule_los=[{drive_chan: qubit_01_freq_cal}]\n                                                     * len(excited_sweep_freqs))\n\nexcited_freq_sweep_job = backend.run(excited_freq_sweep_program)\nexcited_freq_sweep_job.update_name(\"frequency sweep 1->2\")\njob_monitor(excited_freq_sweep_job)"
   ]
  },
  {
   "cell_type": "markdown",
   "metadata": {},
   "source": [
    "### Plot and fit results"
   ]
  },
  {
   "cell_type": "code",
   "execution_count": null,
   "metadata": {},
   "outputs": [],
   "source": [
    "result = excited_freq_sweep_job.result()\nexcited_freq_sweep_data = [result.get_memory(i)[0]*scale_factor for i in range(len(result.results))]\n\nfitparams, _ = curve_fit(lorentzian,\n                         excited_sweep_freqs,\n                         excited_freq_sweep_data,\n                         [1e7, qubit_01_freq_cal - freq_offset, 1e6, 31])\nprint(f\"Fit parameters: {fitparams}\")\n\ny_fit = lorentzian(excited_sweep_freqs, *fitparams)\n\nplt.scatter(excited_sweep_freqs,excited_freq_sweep_data)\nplt.plot(excited_sweep_freqs, y_fit, color='red')\n\nplt.title(\"1->2 Frequency Sweep\")\nplt.xlabel(\"Freq (Hz)\")\nplt.ylabel(\"Signal\")\nplt.show()"
   ]
  },
  {
   "cell_type": "markdown",
   "metadata": {},
   "source": [
    "### Update frequency"
   ]
  },
  {
   "cell_type": "code",
   "execution_count": null,
   "metadata": {},
   "outputs": [],
   "source": [
    "qubit_12_freq = fitparams[1]\n\nprint(f\"Updated 1->2 freq to {qubit_12_freq}.\")"
   ]
  },
  {
   "cell_type": "markdown",
   "metadata": {
    "slideshow": {
     "slide_type": "slide"
    }
   },
   "source": [
    "# 2. Rabi Calibration Experiment\n",
    "## 2.1 $|0\\rangle \\rightarrow |1\\rangle$ Rabi Experiment\n",
    "\n",
    "Next, we perform a Rabi experiment to compute the $0\\rightarrow1 ~ \\pi$ pulse amplitude and obtain a fully calibrated $\\pi$ pulse. Recall that a $\\pi$ pulse is a pulse that takes us from the $|0\\rangle$ to $|1\\rangle$ state (a $\\pi$ rotation on the Bloch sphere). We will sweep over different drive amplitudes to find the pulse drive amplitude that corresponds to maximal population inversion to the $|1\\rangle$ state."
   ]
  },
  {
   "cell_type": "markdown",
   "metadata": {
    "slideshow": {
     "slide_type": "slide"
    }
   },
   "source": [
    "## Define sweep range"
   ]
  },
  {
   "cell_type": "code",
   "execution_count": null,
   "metadata": {},
   "outputs": [],
   "source": [
    "num_rabi_points = 50\nrabi_01_drive_amps = np.linspace(0, 0.3, num_rabi_points)"
   ]
  },
  {
   "cell_type": "markdown",
   "metadata": {
    "slideshow": {
     "slide_type": "slide"
    }
   },
   "source": [
    "## Construct pulse schedule\n",
    "\n",
    "We can construct the schedule ourselves, or use the built-in `rabi_schedules` method in Ignis.\n",
    "\n",
    "![rabi_schedules.png](rabi_schedules.png)"
   ]
  },
  {
   "cell_type": "code",
   "execution_count": null,
   "metadata": {},
   "outputs": [],
   "source": [
    "from qiskit.ignis.characterization.calibrations import rabi_schedules, RabiFitter\n\nrabi_schedules, xdata = rabi_schedules(amp_list=rabi_01_drive_amps, \n                                       qubits=[qubit], \n                                       pulse_width=drive_samples, \n                                       pulse_sigma=drive_sigma,\n                                       drives=[drive_chan], \n                                       inst_map=backend.defaults().instruction_schedule_map, \n                                       meas_map=backend.configuration().meas_map)\nfrom qiskit.visualization import SchedStyle\nrabi_schedules[-1].draw(**plot_options)"
   ]
  },
  {
   "cell_type": "markdown",
   "metadata": {
    "slideshow": {
     "slide_type": "slide"
    }
   },
   "source": [
    "## Assemble program and run"
   ]
  },
  {
   "cell_type": "code",
   "execution_count": null,
   "metadata": {},
   "outputs": [],
   "source": [
    "rabi_program = assemble(rabi_schedules,\n                        backend=backend,\n                        meas_level=1,\n                        meas_return='avg',\n                        shots=256,\n                        schedule_los=[{drive_chan: qubit_01_freq_cal}]*num_rabi_points\n                        )\nrabi_01_job = backend.run(rabi_program)\nrabi_01_job.update_name(\"rabi 0->1 calibration\")\njob_monitor(rabi_01_job)"
   ]
  },
  {
   "cell_type": "markdown",
   "metadata": {},
   "source": [
    "Q: what is wrong with this Rabi scan?\n",
    "    ![badrabi.png](badrabi.png)"
   ]
  },
  {
   "cell_type": "markdown",
   "metadata": {},
   "source": [
    "## Fit data\n",
    "\n",
    "We can first fit the $|0\\rangle \\rightarrow |1\\rangle$ Rabi data using the built-in `RabiFitter` in Ignis."
   ]
  },
  {
   "cell_type": "code",
   "execution_count": null,
   "metadata": {},
   "outputs": [],
   "source": [
    "result = rabi_01_job.result()\nrabi_fit = RabiFitter(result, rabi_01_drive_amps, [0], fit_p0 = [-2e7, 10, -0.1, -0.02]) # amp, freq, phase, offset\nrabi_fit.plot(0)\nprint(f\"fit parameters: {rabi_fit.params}\")\nprint(f\"pi-amplitude: {rabi_fit.pi_amplitude(0)}\")"
   ]
  },
  {
   "cell_type": "markdown",
   "metadata": {
    "slideshow": {
     "slide_type": "slide"
    }
   },
   "source": [
    "## Define calibrated $\\pi$ pulse"
   ]
  },
  {
   "cell_type": "code",
   "execution_count": null,
   "metadata": {},
   "outputs": [],
   "source": [
    "pi_amp_01 = rabi_fit.pi_amplitude(0)\npi_pulse_01 = pulse.Gaussian(duration=drive_samples,\n                             amp=pi_amp_01, \n                             sigma=drive_sigma,\n                             name='pi_pulse_01 calibrated')\nprint(f\"Calibrated 0->1 pi pulse amplitude: {pi_amp_01}\")"
   ]
  },
  {
   "cell_type": "markdown",
   "metadata": {
    "slideshow": {
     "slide_type": "slide"
    }
   },
   "source": [
    "## 2.2 $|1\\rangle \\rightarrow |2\\rangle$ Rabi Experiment\n",
    "\n",
    "We will now calibrate the Rabi experiment using what we've learned from the Rabi and frequency scan experiments. We apply a $0\\rightarrow1$ $\\pi$ pulse and then sweep over drive amplitudes at the $1\\rightarrow2$ frequency (using the sideband method)."
   ]
  },
  {
   "cell_type": "code",
   "execution_count": null,
   "metadata": {},
   "outputs": [],
   "source": [
    "num_rabi_points = 50\ndrive_amp_min = 0\ndrive_amp_max = 0.5\ndrive_amps = np.linspace(drive_amp_min, drive_amp_max, num_rabi_points)\n\n# Pulse length factor\nlen_factor = 1\n\nrabi_12_schedules = []\nfor ii, drive_amp in enumerate(drive_amps):\n    base_12_pulse = gaussian(duration=round_16(drive_samples*len_factor),\n                               sigma=round_16(drive_sigma*len_factor),\n                               amp=drive_amp,\n                               name='base_12_pulse')\n\n    # Start constructing rabi_12_pulse and schedule using it\n\n    # End construction\n    \n    rabi_12_schedules.append(schedule)\nrabi_12_schedules[-1].draw(**plot_options)"
   ]
  },
  {
   "cell_type": "markdown",
   "metadata": {
    "slideshow": {
     "slide_type": "slide"
    }
   },
   "source": [
    "### Assemble and run"
   ]
  },
  {
   "cell_type": "code",
   "execution_count": null,
   "metadata": {},
   "outputs": [],
   "source": [
    "rabi_12_expt_program = assemble(rabi_12_schedules,\n                                backend=backend,\n                                meas_level=1,\n                                meas_return='avg',\n                                shots=256,\n                                schedule_los=[{drive_chan: qubit_01_freq_cal}]\n                                               * num_rabi_points)\n\nrabi_12_job = backend.run(rabi_12_expt_program)\nrabi_12_job.update_name(\"rabi 1->2\")\njob_monitor(rabi_12_job)"
   ]
  },
  {
   "cell_type": "markdown",
   "metadata": {
    "slideshow": {
     "slide_type": "slide"
    }
   },
   "source": [
    "### Fit results"
   ]
  },
  {
   "cell_type": "code",
   "execution_count": null,
   "metadata": {},
   "outputs": [],
   "source": [
    "result = rabi_12_job.result()\nrabi_12_fit = RabiFitter(result, drive_amps, [0], fit_p0 = [1/scale_factor, 6, 0.1, 0])\nrabi_12_fit.plot(0)\nprint(rabi_12_fit.params)\nprint(rabi_12_fit.pi_amplitude(0))"
   ]
  },
  {
   "cell_type": "markdown",
   "metadata": {
    "slideshow": {
     "slide_type": "slide"
    }
   },
   "source": [
    "## Make calibrated pulse\n"
   ]
  },
  {
   "cell_type": "code",
   "execution_count": null,
   "metadata": {},
   "outputs": [],
   "source": [
    "print(f\"Calibrated 1->2 pi amplitude: {rabi_12_fit.pi_amplitude(0)}\")\npi_pulse_12 = gaussian(duration=drive_samples*len_factor,\n                                 amp=rabi_12_fit.pi_amplitude(0), \n                                 sigma=drive_sigma*len_factor,\n                                 name='pi_pulse_12')\n# make sure this pulse is sidebanded\npi_pulse_12 = apply_sideband(pi_pulse_12, qubit_12_freq, qubit_01_freq_cal, drive_samples*len_factor)"
   ]
  },
  {
   "cell_type": "markdown",
   "metadata": {
    "slideshow": {
     "slide_type": "slide"
    }
   },
   "source": [
    "## 3. Tri-state discrimination experiment\n",
    "\n",
    "We now have all the pieces for our excited state promoted readout experiment. To do so, we need to gather I-Q data for $|0\\rangle$, $|1\\rangle$, and $|2\\rangle$ states. To achieve this, we will create three separate schedules: one which simple measures in the ground state, one which uses our calibrated $\\pi$-pulse to get to the $|1\\rangle$ state and then measure, and one which excites the $|1\\rangle$ state to the $|2\\rangle$ using our sideband pulse."
   ]
  },
  {
   "cell_type": "code",
   "execution_count": null,
   "metadata": {},
   "outputs": [],
   "source": [
    "zero_schedule = pulse.Schedule(name=\"cal_0\")\n# Start |0> schedule\n\n# End |0> schedule\n\none_schedule = pulse.Schedule(name=\"cal_1\")\n# Start |1> schedule\n\n# End |1> schedule\n\ntwo_schedule = pulse.Schedule(name=\"cal_2\")\n# Start |2> schedule\n\n# End |2> schedule"
   ]
  },
  {
   "cell_type": "markdown",
   "metadata": {
    "slideshow": {
     "slide_type": "slide"
    }
   },
   "source": [
    "## Assemble and run the program"
   ]
  },
  {
   "cell_type": "code",
   "execution_count": null,
   "metadata": {},
   "outputs": [],
   "source": [
    "IQ_012_program = assemble([zero_schedule, one_schedule, two_schedule],\n                           backend=backend,\n                           meas_level=1,\n                           meas_return='single',\n                           shots=1024,\n                           schedule_los=[{drive_chan: qubit_01_freq_cal}] * 3)\n\nIQ_012_job = backend.run(IQ_012_program)\njob_monitor(IQ_012_job)"
   ]
  },
  {
   "cell_type": "markdown",
   "metadata": {
    "slideshow": {
     "slide_type": "slide"
    }
   },
   "source": [
    "## Process the result and plot"
   ]
  },
  {
   "cell_type": "code",
   "execution_count": null,
   "metadata": {},
   "outputs": [],
   "source": [
    "result = IQ_012_job.result()\n\n# Start getting IQ_012_data from result\n\n# End getting IQ_012_data\n\nzero_data = IQ_012_data[0]\none_data = IQ_012_data[1]\ntwo_data = IQ_012_data[2]\n\ndef IQ_012_plot(x_min, x_max, y_min, y_max):\n    plt.scatter(np.real(zero_data), np.imag(zero_data), \n                    s=5, cmap='viridis', c='blue', alpha=0.5, label=r'$|0\\rangle$')\n    plt.scatter(np.real(one_data), np.imag(one_data), \n                    s=5, cmap='viridis', c='red', alpha=0.5, label=r'$|1\\rangle$')\n    plt.scatter(np.real(two_data), np.imag(two_data), \n                    s=5, cmap='viridis', c='green', alpha=0.5, label=r'$|2\\rangle$')\n\n    mean_zero = np.mean(zero_data)\n    mean_one = np.mean(one_data)\n    mean_two = np.mean(two_data)\n    \n    plt.scatter(np.real(mean_zero), np.imag(mean_zero), \n                s=200, c='black',alpha=1.0)\n    plt.scatter(np.real(mean_one), np.imag(mean_one), \n                s=200, c='black',alpha=1.0)\n    plt.scatter(np.real(mean_two), np.imag(mean_two), \n                s=200, c='black',alpha=1.0)\n    \n    plt.xlim(x_min, x_max)\n    plt.ylim(y_min,y_max)\n    plt.legend()\n    plt.ylabel('I [a.u.]', fontsize=15)\n    plt.xlabel('Q [a.u.]', fontsize=15)\n    plt.title(\"0-1-2 discrimination\", fontsize=15)\n\nIQ_012_plot(-7, 2, -1, 8)"
   ]
  },
  {
   "cell_type": "markdown",
   "metadata": {
    "slideshow": {
     "slide_type": "slide"
    }
   },
   "source": [
    "## 4. Using classifiers for discrimination\n",
    "\n",
    "Let's first try classifiers on two basis subspaces so it's simple to see what's going on."
   ]
  },
  {
   "cell_type": "markdown",
   "metadata": {
    "slideshow": {
     "slide_type": "slide"
    }
   },
   "source": [
    "### Linear Discriminant Analysis\n",
    "\n",
    "LDA classifies an arbitrary data set into a set of categories (here $|0\\rangle$, $|1\\rangle$, $|2\\rangle$) by maximizing the distance between the means of each category and minimizing the variance within each category. "
   ]
  },
  {
   "cell_type": "code",
   "execution_count": null,
   "metadata": {
    "scrolled": false
   },
   "outputs": [],
   "source": [
    "from qiskit.ignis.measurement.discriminator.iq_discriminators import *\n\nfig, ax = plt.subplots(1, 2, figsize=(10,4))\n\ndiscs01 = {}\ndiscs01['LDA'] = LinearIQDiscriminator(result, qubit_mask=[0], schedules=['cal_0', 'cal_1'])\ndiscs01['LDA'].plot(ax[0], show_boundary=True, flag_misclassified=True)\n\ndiscs02 = {}\ndiscs02['LDA'] = LinearIQDiscriminator(result, qubit_mask=[0], schedules=['cal_0', 'cal_2'], expected_states=['0', '2'])\ndiscs02['LDA'].plot(ax[1], show_boundary=True, flag_misclassified=True)"
   ]
  },
  {
   "cell_type": "markdown",
   "metadata": {
    "slideshow": {
     "slide_type": "slide"
    }
   },
   "source": [
    "## Quadratic Discriminant Analysis\n",
    "\n",
    "QDA is a more generalized version of LDA that doesn't assume the covariances of each class are the same. The decision surface is quadratic by default."
   ]
  },
  {
   "cell_type": "code",
   "execution_count": null,
   "metadata": {
    "scrolled": true
   },
   "outputs": [],
   "source": [
    "fig, ax = plt.subplots(1, 2, figsize=(10,4))\n\ndiscs01['QDA'] = QuadraticIQDiscriminator(result, qubit_mask=[0], schedules=['cal_0', 'cal_1'], expected_states=['0', '1'])\ndiscs01['QDA'].plot(ax[0], show_boundary=True, flag_misclassified=True)\n\ndiscs02['QDA'] = QuadraticIQDiscriminator(result, qubit_mask=[0], schedules=['cal_0', 'cal_2'], expected_states=['0', '2'])\ndiscs02['QDA'].plot(ax[1], show_boundary=True, flag_misclassified=True)"
   ]
  },
  {
   "cell_type": "markdown",
   "metadata": {
    "slideshow": {
     "slide_type": "slide"
    }
   },
   "source": [
    "## Comparison of classifiers\n",
    "\n",
    "Let's create a filter for each discriminator that can be used to convert any level 1 data into level 2 data."
   ]
  },
  {
   "cell_type": "code",
   "execution_count": null,
   "metadata": {},
   "outputs": [],
   "source": [
    "from qiskit.ignis.measurement.discriminator.filters import DiscriminationFilter\n\nfilters01 = {}\nfor key in discs01:\n    filters01[key] = DiscriminationFilter(discs01[key],0)\n    \nfilters02 = {}\nfor key in discs02:\n    filters02[key] = DiscriminationFilter(discs02[key],0)"
   ]
  },
  {
   "cell_type": "markdown",
   "metadata": {
    "slideshow": {
     "slide_type": "slide"
    }
   },
   "source": [
    "## Visualize "
   ]
  },
  {
   "cell_type": "code",
   "execution_count": null,
   "metadata": {},
   "outputs": [],
   "source": [
    "fig, ax = plt.subplots(2, 6, figsize=(18,8))\n\nfor i, c in enumerate([\"LDA\", \"QDA\"]):\n    discs01[c].plot(ax[i, 0], show_boundary=True)\n    ax[i, 0].set_title(c)\n    counts = filters01[c].apply(result).get_counts()\n    ax[i, 1].bar([\"0 state\", \"1 state\"], counts[0].values())\n    ax[i, 2].bar([\"1 state\", \"0 state\"], counts[1].values())\n    print(f\"{c}, 0 and 1 false rate = {(min(counts[0].values())+min(counts[1].values()))/2048}\")\n\n    discs02[c].plot(ax[i, 3], show_boundary=True)\n    ax[i, 3].set_title(c)\n    counts = filters02[c].apply(result).get_counts()\n    ax[i, 4].bar([\"0 state\", \"2 state\"], counts[0].values())\n    ax[i, 5].bar([\"2 state\", \"0 state\"], counts[1].values())    \n    \n    print(f\"{c}, 0 and 2 false rate = {(min(counts[0].values())+min(counts[1].values()))/2048}\")\nplt.tight_layout()"
   ]
  },
  {
   "cell_type": "markdown",
   "metadata": {},
   "source": [
    "## Bonus: Classifying more than two states"
   ]
  },
  {
   "cell_type": "markdown",
   "metadata": {
    "slideshow": {
     "slide_type": "slide"
    }
   },
   "source": [
    "## Support Vector Classifier (SVC)\n",
    "\n",
    "SVCs are supervised learning methods that supports high dimensional classification."
   ]
  },
  {
   "cell_type": "code",
   "execution_count": null,
   "metadata": {},
   "outputs": [],
   "source": [
    "from sklearn.svm import SVC\n\nsvc = SVC(C=1., kernel=\"rbf\", gamma=\"scale\")\ndiscs_012={}\ndiscs_012['SVC'] = SklearnIQDiscriminator(svc, result, qubit_mask=[0], schedules=None, expected_states=['0','1','2'])\ndiscs_012['SVC'].plot(show_boundary=True, flag_misclassified=True)"
   ]
  },
  {
   "cell_type": "markdown",
   "metadata": {
    "slideshow": {
     "slide_type": "slide"
    }
   },
   "source": [
    "# 5. Evaluate excited state promoted readout\n",
    "\n",
    "Now let's do a mock experiment. Using the first half of our results as the training set, we'll train a classifier to distinguish 0 vs 1 or 0 vs 2, then measure the false error rate on the test set and compare doing excited state readout versus normal readout."
   ]
  },
  {
   "cell_type": "code",
   "execution_count": null,
   "metadata": {},
   "outputs": [],
   "source": [
    "def reshape_complex_vec(vec):\n    length = len(vec)\n    vec_reshaped = np.zeros((length, 2))\n    for i in range(len(vec)):\n        vec_reshaped[i]=[np.real(vec[i]), np.imag(vec[i])]\n    return vec_reshaped"
   ]
  },
  {
   "cell_type": "code",
   "execution_count": null,
   "metadata": {},
   "outputs": [],
   "source": [
    "from sklearn.model_selection import train_test_split\n\nzero_data_reshaped = reshape_complex_vec(zero_data)\none_data_reshaped = reshape_complex_vec(one_data)  \ntwo_data_reshaped = reshape_complex_vec(two_data)  \n\nclassifiers={\"LDA\": LinearDiscriminantAnalysis(),\n             \"QDA\": QuadraticDiscriminantAnalysis(),\n             \"SVC\": SVC(C=1., kernel=\"rbf\", gamma=\"scale\")}\n\nfor type in classifiers:\n    IQ_01_data = np.concatenate((zero_data_reshaped, one_data_reshaped))\n    state_01 = np.zeros(1024)\n    state_01 = np.concatenate((state_01, np.ones(1024)))\n    IQ_train, IQ_test, state_train, state_test = train_test_split(IQ_01_data, state_01, test_size=0.5)\n\n    classifiers[type].fit(IQ_train, state_train)\n    score = classifiers[type].score(IQ_test, state_test)\n    print(f\"{type} 0, 1 state discrimination score: {score}\")\n    \n    IQ_02_data = np.concatenate((zero_data_reshaped, two_data_reshaped))\n    state_02 = np.zeros(1024)\n    state_02 = np.concatenate((state_02, np.ones(1024)))\n    IQ_train, IQ_test, state_train, state_test = train_test_split(IQ_02_data, state_02, test_size=0.5)\n\n    \n    classifiers[type].fit(IQ_train, state_train)\n    score = classifiers[type].score(IQ_test, state_test)\n    print(f\"{type} 0, 2 state discrimination score: {score}\")"
   ]
  },
  {
   "cell_type": "markdown",
   "metadata": {
    "slideshow": {
     "slide_type": "slide"
    }
   },
   "source": [
    "# Takeaways\n",
    "\n",
    "- We learned how to calibrate qubit frequencies, Rabi amplitudes, and I-Q discriminators\n",
    "- Qiskit Pulse is a powerful tool for low-level quantum programming\n",
    "- Many built-in Qiskit libraries exist for analysis and post-processing\n",
    "\n",
    "Coming up next: Pulse discussion panel with me, Zach Schoenfeld, and Sadik Hafizovic\n",
    "\n",
    "Coming up at 15:15 MDT: Breakout session with me and Zach Schoenfeld (ask questions here!)"
   ]
  }
 ],
 "metadata": {
  "celltoolbar": "Slideshow",
  "kernelspec": {
   "display_name": "Python 3",
   "language": "python",
   "name": "python3"
  },
  "language_info": {
   "codemirror_mode": {
    "name": "ipython",
    "version": 3
   },
   "file_extension": ".py",
   "mimetype": "text/x-python",
   "name": "python",
   "nbconvert_exporter": "python",
   "pygments_lexer": "ipython3",
   "version": "3.8.3"
  }
 },
 "nbformat": 4,
 "nbformat_minor": 4
}
